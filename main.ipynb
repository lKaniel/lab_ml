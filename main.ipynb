{
 "cells": [
  {
   "cell_type": "code",
   "execution_count": 191,
   "id": "initial_id",
   "metadata": {
    "collapsed": true,
    "ExecuteTime": {
     "end_time": "2023-12-18T19:15:11.550257400Z",
     "start_time": "2023-12-18T19:15:11.541847100Z"
    }
   },
   "outputs": [],
   "source": [
    "#Бібліотеки, які будемо використовувати\n",
    "\n",
    "import numpy as np\n",
    "import PIL\n",
    "import matplotlib.pyplot as plt"
   ]
  },
  {
   "cell_type": "code",
   "execution_count": 192,
   "outputs": [],
   "source": [
    "#\n",
    "\n",
    "def initialize_parameters_deep(layer_dims):\n",
    "    np.random.seed(1)\n",
    "    parameters = {}\n",
    "    L = len(layer_dims)\n",
    "    \n",
    "    for l in range(1,L):\n",
    "        parameters['W' + str(l)] = np.random.randn(layer_dims[l], layer_dims[l-1]) * np.sqrt(2/layer_dims[l-1])\n",
    "        parameters[\"b\"+str(l)]=np.zeros((layer_dims[l],1))\n",
    "    return parameters "
   ],
   "metadata": {
    "collapsed": false,
    "ExecuteTime": {
     "end_time": "2023-12-18T19:15:11.555035100Z",
     "start_time": "2023-12-18T19:15:11.553025100Z"
    }
   },
   "id": "1ec33d34ea77696c"
  },
  {
   "cell_type": "code",
   "execution_count": 193,
   "outputs": [],
   "source": [
    "def relu(x):\n",
    "    x = np.maximum(0,x)\n",
    "    return x"
   ],
   "metadata": {
    "collapsed": false,
    "ExecuteTime": {
     "end_time": "2023-12-18T19:15:11.582436Z",
     "start_time": "2023-12-18T19:15:11.555035100Z"
    }
   },
   "id": "3ac93015d7c978ad"
  },
  {
   "cell_type": "code",
   "execution_count": 194,
   "outputs": [],
   "source": [
    "def relu_prime(x):\n",
    "    x[x<=0] = 0\n",
    "    x[x>0] = 1\n",
    "    return x"
   ],
   "metadata": {
    "collapsed": false,
    "ExecuteTime": {
     "end_time": "2023-12-18T19:15:11.583439300Z",
     "start_time": "2023-12-18T19:15:11.561569400Z"
    }
   },
   "id": "756117f102825c98"
  },
  {
   "cell_type": "code",
   "execution_count": 195,
   "outputs": [],
   "source": [
    "def softmax(x):\n",
    "    ans = np.exp(x)/np.sum(np.exp(x),axis=0)\n",
    "    return ans"
   ],
   "metadata": {
    "collapsed": false,
    "ExecuteTime": {
     "end_time": "2023-12-18T19:15:11.583439300Z",
     "start_time": "2023-12-18T19:15:11.568312500Z"
    }
   },
   "id": "7a24eec366bf41b4"
  },
  {
   "cell_type": "code",
   "execution_count": 196,
   "outputs": [],
   "source": [
    "def linear_forward(A,W,b):\n",
    "    Z=W.dot(A)+b\n",
    "    cache = (A, W ,b)\n",
    "    return Z,cache"
   ],
   "metadata": {
    "collapsed": false,
    "ExecuteTime": {
     "end_time": "2023-12-18T19:15:11.583439300Z",
     "start_time": "2023-12-18T19:15:11.573527400Z"
    }
   },
   "id": "40b779017948fec1"
  },
  {
   "cell_type": "code",
   "execution_count": 197,
   "outputs": [],
   "source": [
    "def deep_layer(A,W,b,activation):\n",
    "    Z,linear_cache = linear_forward(A,W,b)\n",
    "    if activation == 'softmax':\n",
    "        A = softmax(Z)\n",
    "        activation_cache = Z\n",
    "    elif activation == 'relu':\n",
    "        A = relu(Z)\n",
    "        activation_cache = Z\n",
    "    cache = (linear_cache,activation_cache)\n",
    "    return A,cache"
   ],
   "metadata": {
    "collapsed": false,
    "ExecuteTime": {
     "end_time": "2023-12-18T19:15:11.597914600Z",
     "start_time": "2023-12-18T19:15:11.579928700Z"
    }
   },
   "id": "970f9a7fc6f70fe0"
  },
  {
   "cell_type": "code",
   "execution_count": 198,
   "outputs": [],
   "source": [
    "def forward_pass(input_X,parameters):\n",
    "    caches=[]\n",
    "    depth = int(len(parameters)/2) # number of layers in the neural network\n",
    "    A = input_X\n",
    "    for l in range(1,depth):\n",
    "        A_prev = A\n",
    "        A,cache = deep_layer(A_prev,parameters['W'+str(l)],parameters['b'+str(l)],'relu')\n",
    "        caches.append(cache)\n",
    "    A_last,cache = deep_layer(A,parameters['W'+str(depth)],parameters['b'+str(depth)],'softmax')\n",
    "    caches.append(cache)\n",
    "    return A_last,caches"
   ],
   "metadata": {
    "collapsed": false,
    "ExecuteTime": {
     "end_time": "2023-12-18T19:15:11.597914600Z",
     "start_time": "2023-12-18T19:15:11.587551700Z"
    }
   },
   "id": "94a6486dde57b3e0"
  },
  {
   "cell_type": "code",
   "execution_count": 199,
   "outputs": [],
   "source": [
    "def compute_cost(AL,Y):  \n",
    "    Y= np.reshape(Y,(Y.shape[0],Y.shape[1]))\n",
    "    m = Y.shape[1]\n",
    "    cost =(-1/m)*(np.multiply(Y,np.log(AL))) #categorical_cross_entropy\n",
    "    cost = np.squeeze(cost)\n",
    "    return cost"
   ],
   "metadata": {
    "collapsed": false,
    "ExecuteTime": {
     "end_time": "2023-12-18T19:15:11.599421300Z",
     "start_time": "2023-12-18T19:15:11.593125200Z"
    }
   },
   "id": "9a9490ac7dd5f4e"
  },
  {
   "cell_type": "code",
   "execution_count": 200,
   "outputs": [],
   "source": [
    "def linear_backward(dZ,cache):\n",
    "    A_prev , W, b = cache\n",
    "    m = A_prev.shape[1]\n",
    "    dW = (1/m)*np.dot(dZ,A_prev.T)\n",
    "    db = (1/m)*np.sum(dZ,axis=1,keepdims=True)\n",
    "    dA_prev = np.dot(W.T,dZ)\n",
    "    return dA_prev, dW, db"
   ],
   "metadata": {
    "collapsed": false,
    "ExecuteTime": {
     "end_time": "2023-12-18T19:15:11.607769600Z",
     "start_time": "2023-12-18T19:15:11.600421100Z"
    }
   },
   "id": "24ef2f438e105f90"
  },
  {
   "cell_type": "code",
   "execution_count": 201,
   "outputs": [],
   "source": [
    "def backward_activation(dA, cache, activation):\n",
    "    linear_cache,activation_cache = cache\n",
    "    if activation == \"relu\":\n",
    "        dZ = dA*relu_prime(activation_cache)\n",
    "        dA_prev, dW,db = linear_backward(dZ,linear_cache)\n",
    "    elif activation == \"softmax\":\n",
    "        dZ = dA\n",
    "        dA_prev, dW,db = linear_backward(dZ,linear_cache)\n",
    "    return dA_prev, dW, db"
   ],
   "metadata": {
    "collapsed": false,
    "ExecuteTime": {
     "end_time": "2023-12-18T19:15:11.617226800Z",
     "start_time": "2023-12-18T19:15:11.605769500Z"
    }
   },
   "id": "3c1eb625b84b52fb"
  },
  {
   "cell_type": "code",
   "execution_count": 202,
   "outputs": [],
   "source": [
    "def backward_pass(A_last,Y,caches):\n",
    "    grads={}\n",
    "    L = len(caches)\n",
    "    m = A_last.shape[1]\n",
    "    Y = Y.reshape(A_last.shape)\n",
    "    dA_last_Z = A_last-Y\n",
    "    current_cache = caches[L-1]\n",
    "    grads[\"dA\"+str(L-1)],grads[\"dW\"+str(L)],grads[\"db\"+str(L)] = backward_activation(dA_last_Z,current_cache,activation='softmax')\n",
    "    for l in reversed(range(L-1)):\n",
    "        current_cache = caches[l]\n",
    "        dA_prev_temp, dW_temp, db_temp = backward_activation(grads['dA'+str(l+1)],current_cache,activation=\"relu\")\n",
    "        grads[\"dA\"+str(l)] = dA_prev_temp\n",
    "        grads[\"dW\"+str(l+1)] = dW_temp\n",
    "        grads[\"db\"+str(l+1)]=db_temp\n",
    "    return grads   "
   ],
   "metadata": {
    "collapsed": false,
    "ExecuteTime": {
     "end_time": "2023-12-18T19:15:11.627240400Z",
     "start_time": "2023-12-18T19:15:11.613276300Z"
    }
   },
   "id": "11d4243f2f49b458"
  },
  {
   "cell_type": "code",
   "execution_count": 203,
   "outputs": [],
   "source": [
    "def update_parameters(parameters, grads, learning_rate):\n",
    "    depth = len(parameters) // 2\n",
    "    for l in range(depth):\n",
    "        parameters[\"W\"+str(l+1)] = parameters[\"W\"+ str(l+1)]-learning_rate*grads['dW'+str(l+1)]\n",
    "        parameters[\"b\"+str(l+1)] = parameters[\"b\" + str(l+1)]-learning_rate*grads['db'+str(l+1)]\n",
    "    return parameters"
   ],
   "metadata": {
    "collapsed": false,
    "ExecuteTime": {
     "end_time": "2023-12-18T19:15:11.627240400Z",
     "start_time": "2023-12-18T19:15:11.619734Z"
    }
   },
   "id": "7ee1c2470e7747ae"
  },
  {
   "cell_type": "code",
   "execution_count": 215,
   "outputs": [],
   "source": [
    "def mini_batch_gradient_descent(X,Y,layer_dims=[3,2,1],mini_batch_size=8,epochs=100, learning_rate=0.0075):\n",
    "    np.random.seed(1)\n",
    "    m = X.shape[1]\n",
    "    mini_batches = []\n",
    "    #shuffling the data\n",
    "    permutation = list(np.random.permutation(X.shape[1]))\n",
    "    X_shuffled = X[:, permutation]\n",
    "    Y_shuffled = Y[:, permutation]\n",
    "    num_of_complete_batches = m // mini_batch_size\n",
    "    for i in range(num_of_complete_batches):\n",
    "        mini_batch_X = X_shuffled[:,i*mini_batch_size:(i+1)*mini_batch_size]\n",
    "        mini_batch_Y = Y_shuffled[:,i*mini_batch_size:(i+1)*mini_batch_size]\n",
    "        mini_batch = (mini_batch_X,mini_batch_Y)\n",
    "        mini_batches.append(mini_batch)\n",
    "        \n",
    "        \n",
    "    #if there is incomplete batch\n",
    "    if m % mini_batch_size != 0:\n",
    "       \n",
    "        mini_batch_X=X_shuffled[:,num_of_complete_batches*mini_batch_size:num_of_complete_batches*mini_batch_size + (m - mini_batch_size*num_of_complete_batches)]\n",
    "        mini_batch_Y=Y_shuffled[:,num_of_complete_batches*mini_batch_size:num_of_complete_batches*mini_batch_size + (m - mini_batch_size*num_of_complete_batches)]\n",
    "        mini_batch = (mini_batch_X,mini_batch_Y)\n",
    "        mini_batches.append(mini_batch)\n",
    "        \n",
    "    #parameters_initialize\n",
    "    costs=[]\n",
    "\n",
    "    parameters = initialize_parameters_deep(layer_dims)\n",
    "    \n",
    "    print(parameters)\n",
    "    \n",
    "    for j in range(epochs):\n",
    "        for mini_batch in mini_batches:\n",
    "            x_batch,y_batch=mini_batch\n",
    "#             parameters = parameters\n",
    "            A_Last,caches = forward_pass(x_batch,parameters)\n",
    "            cost = np.sum(compute_cost(A_Last, y_batch))/A_Last.shape[0]\n",
    "            grads = backward_pass(A_Last, y_batch , caches)\n",
    "            parameters = update_parameters(parameters, grads, learning_rate)\n",
    "        if j%2 == 0:\n",
    "            print(f'Iteration {j} : {cost}')\n",
    "            costs.append(cost)\n",
    "    return parameters,costs"
   ],
   "metadata": {
    "collapsed": false,
    "ExecuteTime": {
     "end_time": "2023-12-18T19:25:15.021796100Z",
     "start_time": "2023-12-18T19:25:15.003475900Z"
    }
   },
   "id": "398b2404936cb261"
  },
  {
   "cell_type": "code",
   "execution_count": 205,
   "outputs": [],
   "source": [
    "def one_hot(y, depth):\n",
    "    one_hot_list = np.array([],dtype=int)\n",
    "    for i in range(depth):\n",
    "        temp =np.zeros((1,depth),dtype=int)\n",
    "        temp[0][i]=1\n",
    "        one_hot_list =np.append(one_hot_list,temp)\n",
    "    one_hot=np.reshape(one_hot_list,(depth,depth))\n",
    "    \n",
    "    y = one_hot[y].T\n",
    "    return y"
   ],
   "metadata": {
    "collapsed": false,
    "ExecuteTime": {
     "end_time": "2023-12-18T19:15:11.647229900Z",
     "start_time": "2023-12-18T19:15:11.633752300Z"
    }
   },
   "id": "2568b1d197d41eb7"
  },
  {
   "cell_type": "code",
   "execution_count": 206,
   "outputs": [
    {
     "name": "stderr",
     "output_type": "stream",
     "text": [
      "D:\\PycharmProjects\\lab_ml\\.venv\\Lib\\site-packages\\sklearn\\datasets\\_openml.py:1022: FutureWarning: The default value of `parser` will change from `'liac-arff'` to `'auto'` in 1.4. You can set `parser='auto'` to silence this warning. Therefore, an `ImportError` will be raised from 1.4 if the dataset is dense and pandas is not installed. Note that the pandas parser may return different data types. See the Notes Section in fetch_openml's API doc for details.\n",
      "  warn(\n"
     ]
    }
   ],
   "source": [
    "from sklearn.datasets import fetch_openml\n",
    "X, y = fetch_openml('mnist_784', version=1, return_X_y=True)"
   ],
   "metadata": {
    "collapsed": false,
    "ExecuteTime": {
     "end_time": "2023-12-18T19:15:25.893034500Z",
     "start_time": "2023-12-18T19:15:11.639194100Z"
    }
   },
   "id": "3ccccb8ebd90c5a8"
  },
  {
   "cell_type": "code",
   "execution_count": 207,
   "outputs": [],
   "source": [
    "X = np.array(X) if not isinstance(X, np.ndarray) else X\n",
    "y = np.array(y) if not isinstance(y, np.ndarray) else y\n",
    "\n",
    "train_x = X[0:60000]/255.0 #normalizing the data\n",
    "train_x=train_x.T\n",
    "train_y = y[0:60000]\n",
    "train_y = train_y.astype(int)\n",
    "train_y= np.reshape(train_y,(1,60000))\n",
    "\n",
    "test_x = X[60000:X.shape[0]]/255.0 #normalizing the data\n",
    "test_x=test_x.T\n",
    "test_y = y[60000:y.shape[0]]\n",
    "test_y = test_y.astype('int')"
   ],
   "metadata": {
    "collapsed": false,
    "ExecuteTime": {
     "end_time": "2023-12-18T19:15:26.166149900Z",
     "start_time": "2023-12-18T19:15:25.897036100Z"
    }
   },
   "id": "7e90194630a13887"
  },
  {
   "cell_type": "code",
   "execution_count": 208,
   "outputs": [],
   "source": [
    "train_y = one_hot(train_y,10)"
   ],
   "metadata": {
    "collapsed": false,
    "ExecuteTime": {
     "end_time": "2023-12-18T19:15:26.172415700Z",
     "start_time": "2023-12-18T19:15:26.167150Z"
    }
   },
   "id": "808e2949c97c828c"
  },
  {
   "cell_type": "code",
   "execution_count": 216,
   "outputs": [
    {
     "name": "stdout",
     "output_type": "stream",
     "text": [
      "{'W1': array([[ 0.08204183, -0.03089836, -0.0266767 , ..., -0.05589038,\n",
      "        -0.01814356,  0.02552564],\n",
      "       [ 0.06151531, -0.09801919, -0.04071815, ...,  0.01046669,\n",
      "        -0.07242949,  0.03166355],\n",
      "       [ 0.01514346, -0.09377455, -0.10864409, ..., -0.09870159,\n",
      "         0.00940572, -0.00019344],\n",
      "       ...,\n",
      "       [ 0.02852768,  0.02621437, -0.02543493, ...,  0.01998202,\n",
      "         0.0268647 , -0.10170888],\n",
      "       [ 0.00237709,  0.00294548, -0.08876238, ...,  0.04783898,\n",
      "        -0.02103427, -0.04544773],\n",
      "       [-0.02392226,  0.05072685,  0.00161347, ..., -0.01598959,\n",
      "        -0.11505025, -0.0367077 ]]), 'b1': array([[0.],\n",
      "       [0.],\n",
      "       [0.],\n",
      "       [0.],\n",
      "       [0.],\n",
      "       [0.],\n",
      "       [0.],\n",
      "       [0.],\n",
      "       [0.],\n",
      "       [0.],\n",
      "       [0.],\n",
      "       [0.],\n",
      "       [0.],\n",
      "       [0.],\n",
      "       [0.],\n",
      "       [0.],\n",
      "       [0.],\n",
      "       [0.],\n",
      "       [0.],\n",
      "       [0.],\n",
      "       [0.],\n",
      "       [0.],\n",
      "       [0.],\n",
      "       [0.],\n",
      "       [0.],\n",
      "       [0.],\n",
      "       [0.],\n",
      "       [0.],\n",
      "       [0.],\n",
      "       [0.],\n",
      "       [0.],\n",
      "       [0.],\n",
      "       [0.],\n",
      "       [0.],\n",
      "       [0.],\n",
      "       [0.],\n",
      "       [0.],\n",
      "       [0.],\n",
      "       [0.],\n",
      "       [0.],\n",
      "       [0.],\n",
      "       [0.],\n",
      "       [0.],\n",
      "       [0.],\n",
      "       [0.],\n",
      "       [0.],\n",
      "       [0.],\n",
      "       [0.],\n",
      "       [0.],\n",
      "       [0.],\n",
      "       [0.],\n",
      "       [0.],\n",
      "       [0.],\n",
      "       [0.],\n",
      "       [0.],\n",
      "       [0.],\n",
      "       [0.],\n",
      "       [0.],\n",
      "       [0.],\n",
      "       [0.],\n",
      "       [0.],\n",
      "       [0.],\n",
      "       [0.],\n",
      "       [0.],\n",
      "       [0.],\n",
      "       [0.],\n",
      "       [0.],\n",
      "       [0.],\n",
      "       [0.],\n",
      "       [0.],\n",
      "       [0.],\n",
      "       [0.],\n",
      "       [0.],\n",
      "       [0.],\n",
      "       [0.],\n",
      "       [0.],\n",
      "       [0.],\n",
      "       [0.],\n",
      "       [0.],\n",
      "       [0.],\n",
      "       [0.],\n",
      "       [0.],\n",
      "       [0.],\n",
      "       [0.],\n",
      "       [0.],\n",
      "       [0.],\n",
      "       [0.],\n",
      "       [0.],\n",
      "       [0.],\n",
      "       [0.],\n",
      "       [0.],\n",
      "       [0.],\n",
      "       [0.],\n",
      "       [0.],\n",
      "       [0.],\n",
      "       [0.],\n",
      "       [0.],\n",
      "       [0.],\n",
      "       [0.],\n",
      "       [0.],\n",
      "       [0.],\n",
      "       [0.],\n",
      "       [0.],\n",
      "       [0.],\n",
      "       [0.],\n",
      "       [0.],\n",
      "       [0.],\n",
      "       [0.],\n",
      "       [0.],\n",
      "       [0.],\n",
      "       [0.],\n",
      "       [0.],\n",
      "       [0.],\n",
      "       [0.],\n",
      "       [0.],\n",
      "       [0.],\n",
      "       [0.],\n",
      "       [0.],\n",
      "       [0.],\n",
      "       [0.],\n",
      "       [0.],\n",
      "       [0.],\n",
      "       [0.],\n",
      "       [0.],\n",
      "       [0.],\n",
      "       [0.],\n",
      "       [0.],\n",
      "       [0.]]), 'W2': array([[ 0.19683884,  0.08676287, -0.16981413, ...,  0.16732924,\n",
      "        -0.18699709,  0.1289352 ],\n",
      "       [ 0.0189973 , -0.23406018, -0.10319312, ...,  0.00773694,\n",
      "         0.04596494,  0.0606068 ],\n",
      "       [ 0.06239607,  0.20054346, -0.18065473, ..., -0.08722879,\n",
      "         0.10336684, -0.06697963],\n",
      "       ...,\n",
      "       [-0.1122304 , -0.18425196,  0.17699319, ..., -0.14542172,\n",
      "         0.11129856,  0.00654222],\n",
      "       [ 0.0060356 , -0.0373815 ,  0.14038898, ...,  0.11201612,\n",
      "         0.15810183,  0.08231557],\n",
      "       [ 0.36109613, -0.06091526,  0.10139297, ...,  0.05818678,\n",
      "        -0.14747078,  0.14177692]]), 'b2': array([[0.],\n",
      "       [0.],\n",
      "       [0.],\n",
      "       [0.],\n",
      "       [0.],\n",
      "       [0.],\n",
      "       [0.],\n",
      "       [0.],\n",
      "       [0.],\n",
      "       [0.],\n",
      "       [0.],\n",
      "       [0.],\n",
      "       [0.],\n",
      "       [0.],\n",
      "       [0.],\n",
      "       [0.],\n",
      "       [0.],\n",
      "       [0.],\n",
      "       [0.],\n",
      "       [0.],\n",
      "       [0.],\n",
      "       [0.],\n",
      "       [0.],\n",
      "       [0.],\n",
      "       [0.],\n",
      "       [0.],\n",
      "       [0.],\n",
      "       [0.],\n",
      "       [0.],\n",
      "       [0.],\n",
      "       [0.],\n",
      "       [0.],\n",
      "       [0.],\n",
      "       [0.],\n",
      "       [0.],\n",
      "       [0.],\n",
      "       [0.],\n",
      "       [0.],\n",
      "       [0.],\n",
      "       [0.],\n",
      "       [0.],\n",
      "       [0.],\n",
      "       [0.],\n",
      "       [0.],\n",
      "       [0.],\n",
      "       [0.],\n",
      "       [0.],\n",
      "       [0.],\n",
      "       [0.],\n",
      "       [0.],\n",
      "       [0.],\n",
      "       [0.],\n",
      "       [0.],\n",
      "       [0.],\n",
      "       [0.],\n",
      "       [0.],\n",
      "       [0.],\n",
      "       [0.],\n",
      "       [0.],\n",
      "       [0.],\n",
      "       [0.],\n",
      "       [0.],\n",
      "       [0.],\n",
      "       [0.]]), 'W3': array([[ 0.00041181, -0.12845187, -0.20788512, ...,  0.28198161,\n",
      "        -0.17558429,  0.15951265],\n",
      "       [ 0.06578794, -0.11344282,  0.16173891, ...,  0.20911012,\n",
      "         0.28284335,  0.12647874],\n",
      "       [-0.02150985, -0.01444002, -0.18763338, ..., -0.0737142 ,\n",
      "         0.01842373, -0.19711274],\n",
      "       ...,\n",
      "       [ 0.26543161, -0.0973664 ,  0.16534745, ...,  0.13105618,\n",
      "         0.20640228, -0.07437239],\n",
      "       [ 0.06224866, -0.09350143, -0.04090977, ...,  0.0263883 ,\n",
      "         0.3841444 ,  0.09679518],\n",
      "       [ 0.18853717,  0.01397063,  0.23763836, ...,  0.04308903,\n",
      "         0.04535978, -0.16248972]]), 'b3': array([[0.],\n",
      "       [0.],\n",
      "       [0.],\n",
      "       [0.],\n",
      "       [0.],\n",
      "       [0.],\n",
      "       [0.],\n",
      "       [0.],\n",
      "       [0.],\n",
      "       [0.],\n",
      "       [0.],\n",
      "       [0.],\n",
      "       [0.],\n",
      "       [0.],\n",
      "       [0.],\n",
      "       [0.],\n",
      "       [0.],\n",
      "       [0.],\n",
      "       [0.],\n",
      "       [0.],\n",
      "       [0.],\n",
      "       [0.],\n",
      "       [0.],\n",
      "       [0.],\n",
      "       [0.],\n",
      "       [0.],\n",
      "       [0.],\n",
      "       [0.],\n",
      "       [0.],\n",
      "       [0.],\n",
      "       [0.],\n",
      "       [0.]]), 'W4': array([[ 0.21269706,  0.15348227,  0.00365867, -0.22487774, -0.16732965,\n",
      "         0.11015843, -0.21171745,  0.14844623,  0.16747949,  0.03491531,\n",
      "        -0.13538637,  0.18181592, -0.29104419, -0.01705806, -0.17323685,\n",
      "        -0.04353023, -0.46838622, -0.04464147,  0.09959225, -0.06964429,\n",
      "         0.20567097,  0.10613692, -0.16566585, -0.00244264,  0.04739339,\n",
      "         0.25943388,  0.59728867, -0.0379456 , -0.45124134,  0.04527742,\n",
      "        -0.16038156, -0.44629596],\n",
      "       [ 0.12628523,  0.36770146, -0.17572015, -0.71996703,  0.20178083,\n",
      "        -0.13512223, -0.32782398,  0.19665227, -0.31611784,  0.23171478,\n",
      "        -0.02586843, -0.50560715,  0.53966318, -0.50208436, -0.19414139,\n",
      "         0.53489903,  0.21467202, -0.02087265,  0.52444108,  0.10476764,\n",
      "         0.02012077,  0.32731226,  0.06806778,  0.0730031 , -0.30144577,\n",
      "        -0.26907844, -0.34804845, -0.07809644,  0.05984722,  0.06893612,\n",
      "         0.36170033, -0.35810583],\n",
      "       [-0.11392935, -0.01767255, -0.094131  ,  0.22651875, -0.25284982,\n",
      "         0.15001962,  0.025961  ,  0.00737449,  0.15094746,  0.2238336 ,\n",
      "         0.18891638,  0.00228188, -0.03057327,  0.30082409,  0.09629772,\n",
      "         0.35191564,  0.30667038,  0.04874038,  0.21783426,  0.23809999,\n",
      "        -0.25132291,  0.03610342,  0.19459599, -0.17079248, -0.05542592,\n",
      "         0.00594242,  0.19952197,  0.31312311,  0.15851474,  0.41025831,\n",
      "         0.45608101,  0.03132073],\n",
      "       [-0.25523825, -0.46435906,  0.0780284 ,  0.02757971, -0.00577111,\n",
      "        -0.47029817,  0.01388374,  0.48275729,  0.01550604,  0.02065   ,\n",
      "        -0.32768137,  0.46421749,  0.31494734,  0.11548367,  0.01662083,\n",
      "         0.27087187,  0.08997414, -0.18015771, -0.1453679 , -0.16755265,\n",
      "         0.13300233,  0.0480343 ,  0.19601291,  0.50793513, -0.66188147,\n",
      "         0.36511282,  0.06565423,  0.04426695, -0.02834326,  0.32235041,\n",
      "        -0.26891448,  0.05382456],\n",
      "       [ 0.22216045,  0.04567825,  0.33812018, -0.1313101 ,  0.34357921,\n",
      "         0.02198275, -0.08068734, -0.06558166, -0.4146359 ,  0.06487352,\n",
      "         0.02502667, -0.02651868, -0.19566913, -0.1545392 ,  0.08419351,\n",
      "         0.21964209,  0.07531502,  0.46958279,  0.31355717, -0.44971652,\n",
      "        -0.03141327,  0.2873503 , -0.11623373, -0.33829158, -0.23650193,\n",
      "        -0.36707913, -0.12052193,  0.24690119, -0.20650254,  0.0271154 ,\n",
      "         0.09716986, -0.43197516],\n",
      "       [-0.0494118 ,  0.42534686, -0.34840465,  0.23312334, -0.22987939,\n",
      "         0.35252786,  0.19437868, -0.42076239, -0.38279917, -0.0829283 ,\n",
      "        -0.10834269, -0.34625558,  0.04677345,  0.00376359,  0.23060136,\n",
      "         0.44631171,  0.24603181, -0.44247359, -0.54348364,  0.21518289,\n",
      "        -0.08193877, -0.23167031,  0.03904938, -0.06527215,  0.16779978,\n",
      "         0.19996017, -0.15538208,  0.01936825,  0.14137241, -0.2618499 ,\n",
      "         0.33995512, -0.14448355],\n",
      "       [ 0.70644615, -0.08027448,  0.18729937, -0.34192377,  0.04979629,\n",
      "         0.08093746,  0.18952948, -0.4065594 , -0.63004112,  0.00104595,\n",
      "         0.13825321,  0.35216673,  0.02352124, -0.25118669, -0.15133161,\n",
      "        -0.44622206,  0.53641746, -0.06934566,  0.1021949 , -0.02002244,\n",
      "        -0.1050441 , -0.12406207, -0.07008068, -0.03116004, -0.17628102,\n",
      "         0.20463838,  0.1524891 ,  0.01770343, -0.2259938 ,  0.22874079,\n",
      "        -0.15715295,  0.10848671],\n",
      "       [ 0.21622724, -0.24551359, -0.08284507, -0.03748192, -0.07666774,\n",
      "         0.05363779, -0.00437821,  0.0978497 ,  0.29627232,  0.03073987,\n",
      "         0.22890874, -0.51206361, -0.10034487, -0.21289037,  0.15944926,\n",
      "         0.00630253, -0.12896311,  0.45965603, -0.18251763,  0.04673479,\n",
      "         0.25015299,  0.13769454, -0.04280392,  0.16355638, -0.00893378,\n",
      "         0.17622692,  0.03151183, -0.00104855, -0.09598842,  0.42366273,\n",
      "         0.09712238, -0.02315007],\n",
      "       [ 0.05000181,  0.5237947 ,  0.03739099, -0.34663538,  0.23351067,\n",
      "         0.05838649, -0.31521425, -0.10442062,  0.03962899,  0.2450354 ,\n",
      "        -0.19072804, -0.43447476, -0.5352248 , -0.55223429, -0.14659593,\n",
      "        -0.09920688,  0.15629345,  0.00273847, -0.24023476,  0.47081579,\n",
      "        -0.07709418,  0.03285584, -0.26200243, -0.07001351, -0.18269141,\n",
      "         0.10441827,  0.32173161, -0.18499026, -0.18433752, -0.31914238,\n",
      "        -0.2060742 , -0.11602554],\n",
      "       [-0.64238726,  0.13117714,  0.23121134,  0.26947878,  0.17274701,\n",
      "         0.19473727, -0.03930798, -0.33590031,  0.00313167, -0.2034749 ,\n",
      "         0.30094854,  0.1711384 , -0.40771751, -0.20708368, -0.48954194,\n",
      "        -0.16164305, -0.08672684, -0.32740828, -0.341185  , -0.17406061,\n",
      "         0.34960757, -0.2121038 ,  0.12865098,  0.01666672, -0.0690256 ,\n",
      "         0.07640644,  0.11943281, -0.08763504,  0.56982704, -0.15778667,\n",
      "        -0.15535318, -0.11903194]]), 'b4': array([[0.],\n",
      "       [0.],\n",
      "       [0.],\n",
      "       [0.],\n",
      "       [0.],\n",
      "       [0.],\n",
      "       [0.],\n",
      "       [0.],\n",
      "       [0.],\n",
      "       [0.]])}\n",
      "Iteration 0 : 0.04138892339739707\n",
      "Iteration 2 : 0.026722263127414048\n",
      "Iteration 4 : 0.019924689633165432\n",
      "Iteration 6 : 0.014817267530203826\n",
      "Iteration 8 : 0.010875545676988629\n",
      "Iteration 10 : 0.008293958868191818\n",
      "Iteration 12 : 0.0063640853376815115\n"
     ]
    },
    {
     "ename": "KeyboardInterrupt",
     "evalue": "",
     "output_type": "error",
     "traceback": [
      "\u001B[1;31m---------------------------------------------------------------------------\u001B[0m",
      "\u001B[1;31mKeyboardInterrupt\u001B[0m                         Traceback (most recent call last)",
      "Cell \u001B[1;32mIn[216], line 1\u001B[0m\n\u001B[1;32m----> 1\u001B[0m parameters,costs\u001B[38;5;241m=\u001B[39m\u001B[43mmini_batch_gradient_descent\u001B[49m\u001B[43m(\u001B[49m\u001B[43mtrain_x\u001B[49m\u001B[43m,\u001B[49m\u001B[43m \u001B[49m\u001B[43mtrain_y\u001B[49m\u001B[43m,\u001B[49m\u001B[43mlayer_dims\u001B[49m\u001B[38;5;241;43m=\u001B[39;49m\u001B[43m[\u001B[49m\u001B[38;5;241;43m784\u001B[39;49m\u001B[43m,\u001B[49m\u001B[38;5;241;43m128\u001B[39;49m\u001B[43m,\u001B[49m\u001B[38;5;241;43m64\u001B[39;49m\u001B[43m,\u001B[49m\u001B[38;5;241;43m32\u001B[39;49m\u001B[43m,\u001B[49m\u001B[38;5;241;43m10\u001B[39;49m\u001B[43m]\u001B[49m\u001B[43m,\u001B[49m\u001B[43mmini_batch_size\u001B[49m\u001B[38;5;241;43m=\u001B[39;49m\u001B[38;5;241;43m64\u001B[39;49m\u001B[43m,\u001B[49m\u001B[43mepochs\u001B[49m\u001B[38;5;241;43m=\u001B[39;49m\u001B[38;5;241;43m40\u001B[39;49m\u001B[43m)\u001B[49m\n",
      "Cell \u001B[1;32mIn[215], line 38\u001B[0m, in \u001B[0;36mmini_batch_gradient_descent\u001B[1;34m(X, Y, layer_dims, mini_batch_size, epochs, learning_rate)\u001B[0m\n\u001B[0;32m     36\u001B[0m     cost \u001B[38;5;241m=\u001B[39m np\u001B[38;5;241m.\u001B[39msum(compute_cost(A_Last, y_batch))\u001B[38;5;241m/\u001B[39mA_Last\u001B[38;5;241m.\u001B[39mshape[\u001B[38;5;241m0\u001B[39m]\n\u001B[0;32m     37\u001B[0m     grads \u001B[38;5;241m=\u001B[39m backward_pass(A_Last, y_batch , caches)\n\u001B[1;32m---> 38\u001B[0m     parameters \u001B[38;5;241m=\u001B[39m \u001B[43mupdate_parameters\u001B[49m\u001B[43m(\u001B[49m\u001B[43mparameters\u001B[49m\u001B[43m,\u001B[49m\u001B[43m \u001B[49m\u001B[43mgrads\u001B[49m\u001B[43m,\u001B[49m\u001B[43m \u001B[49m\u001B[43mlearning_rate\u001B[49m\u001B[43m)\u001B[49m\n\u001B[0;32m     39\u001B[0m \u001B[38;5;28;01mif\u001B[39;00m j\u001B[38;5;241m%\u001B[39m\u001B[38;5;241m2\u001B[39m \u001B[38;5;241m==\u001B[39m \u001B[38;5;241m0\u001B[39m:\n\u001B[0;32m     40\u001B[0m     \u001B[38;5;28mprint\u001B[39m(\u001B[38;5;124mf\u001B[39m\u001B[38;5;124m'\u001B[39m\u001B[38;5;124mIteration \u001B[39m\u001B[38;5;132;01m{\u001B[39;00mj\u001B[38;5;132;01m}\u001B[39;00m\u001B[38;5;124m : \u001B[39m\u001B[38;5;132;01m{\u001B[39;00mcost\u001B[38;5;132;01m}\u001B[39;00m\u001B[38;5;124m'\u001B[39m)\n",
      "Cell \u001B[1;32mIn[203], line 4\u001B[0m, in \u001B[0;36mupdate_parameters\u001B[1;34m(parameters, grads, learning_rate)\u001B[0m\n\u001B[0;32m      2\u001B[0m depth \u001B[38;5;241m=\u001B[39m \u001B[38;5;28mlen\u001B[39m(parameters) \u001B[38;5;241m/\u001B[39m\u001B[38;5;241m/\u001B[39m \u001B[38;5;241m2\u001B[39m\n\u001B[0;32m      3\u001B[0m \u001B[38;5;28;01mfor\u001B[39;00m l \u001B[38;5;129;01min\u001B[39;00m \u001B[38;5;28mrange\u001B[39m(depth):\n\u001B[1;32m----> 4\u001B[0m     parameters[\u001B[38;5;124m\"\u001B[39m\u001B[38;5;124mW\u001B[39m\u001B[38;5;124m\"\u001B[39m\u001B[38;5;241m+\u001B[39m\u001B[38;5;28mstr\u001B[39m(l\u001B[38;5;241m+\u001B[39m\u001B[38;5;241m1\u001B[39m)] \u001B[38;5;241m=\u001B[39m parameters[\u001B[38;5;124m\"\u001B[39m\u001B[38;5;124mW\u001B[39m\u001B[38;5;124m\"\u001B[39m\u001B[38;5;241m+\u001B[39m \u001B[38;5;28mstr\u001B[39m(l\u001B[38;5;241m+\u001B[39m\u001B[38;5;241m1\u001B[39m)]\u001B[38;5;241m-\u001B[39mlearning_rate\u001B[38;5;241m*\u001B[39mgrads[\u001B[38;5;124m'\u001B[39m\u001B[38;5;124mdW\u001B[39m\u001B[38;5;124m'\u001B[39m\u001B[38;5;241m+\u001B[39m\u001B[38;5;28mstr\u001B[39m(l\u001B[38;5;241m+\u001B[39m\u001B[38;5;241m1\u001B[39m)]\n\u001B[0;32m      5\u001B[0m     parameters[\u001B[38;5;124m\"\u001B[39m\u001B[38;5;124mb\u001B[39m\u001B[38;5;124m\"\u001B[39m\u001B[38;5;241m+\u001B[39m\u001B[38;5;28mstr\u001B[39m(l\u001B[38;5;241m+\u001B[39m\u001B[38;5;241m1\u001B[39m)] \u001B[38;5;241m=\u001B[39m parameters[\u001B[38;5;124m\"\u001B[39m\u001B[38;5;124mb\u001B[39m\u001B[38;5;124m\"\u001B[39m \u001B[38;5;241m+\u001B[39m \u001B[38;5;28mstr\u001B[39m(l\u001B[38;5;241m+\u001B[39m\u001B[38;5;241m1\u001B[39m)]\u001B[38;5;241m-\u001B[39mlearning_rate\u001B[38;5;241m*\u001B[39mgrads[\u001B[38;5;124m'\u001B[39m\u001B[38;5;124mdb\u001B[39m\u001B[38;5;124m'\u001B[39m\u001B[38;5;241m+\u001B[39m\u001B[38;5;28mstr\u001B[39m(l\u001B[38;5;241m+\u001B[39m\u001B[38;5;241m1\u001B[39m)]\n\u001B[0;32m      6\u001B[0m \u001B[38;5;28;01mreturn\u001B[39;00m parameters\n",
      "\u001B[1;31mKeyboardInterrupt\u001B[0m: "
     ]
    }
   ],
   "source": [
    "parameters,costs=mini_batch_gradient_descent(train_x, train_y,layer_dims=[784,128,64,32,10],mini_batch_size=64,epochs=40)"
   ],
   "metadata": {
    "collapsed": false,
    "ExecuteTime": {
     "end_time": "2023-12-18T19:25:43.604233800Z",
     "start_time": "2023-12-18T19:25:20.175982300Z"
    }
   },
   "id": "75eb984ce4f18a69"
  },
  {
   "cell_type": "code",
   "execution_count": 210,
   "outputs": [
    {
     "data": {
      "text/plain": "<Figure size 640x480 with 1 Axes>",
      "image/png": "[encoded data removed]"
     },
     "metadata": {},
     "output_type": "display_data"
    }
   ],
   "source": [
    "plt.plot(costs)\n",
    "plt.ylabel('Cost')\n",
    "plt.xlabel('Iterations per 2 epochs')\n",
    "plt.show()"
   ],
   "metadata": {
    "collapsed": false,
    "ExecuteTime": {
     "end_time": "2023-12-18T19:16:33.894879100Z",
     "start_time": "2023-12-18T19:16:33.799749100Z"
    }
   },
   "id": "c2af55c8183a47e7"
  },
  {
   "cell_type": "code",
   "execution_count": 211,
   "outputs": [
    {
     "name": "stdout",
     "output_type": "stream",
     "text": [
      "Test Accuracy: 0.9729\n"
     ]
    }
   ],
   "source": [
    "correct = 0\n",
    "incorrect=[]\n",
    "\n",
    "for i in range(test_y.shape[0]):\n",
    "    last,_=forward_pass(np.reshape(test_x[:,i],(784,1)),parameters)\n",
    "    if np.argmax(last) == test_y[i]:\n",
    "        correct +=1\n",
    "    else:\n",
    "        incorrect.append(i)\n",
    "accuracy = correct/test_y.shape[0]\n",
    "print(\"Test Accuracy:\",accuracy)"
   ],
   "metadata": {
    "collapsed": false,
    "ExecuteTime": {
     "end_time": "2023-12-18T19:16:35.395373800Z",
     "start_time": "2023-12-18T19:16:33.893878500Z"
    }
   },
   "id": "685b246e2f478462"
  },
  {
   "cell_type": "code",
   "execution_count": 212,
   "outputs": [],
   "source": [
    "import PIL.ImageOps \n",
    "def invert_image(test_img):\n",
    "    I = np.asarray(test_img)\n",
    "    zero_pixels=0\n",
    "    for i in range(I.shape[0]):\n",
    "        for j in range(I.shape[1]):\n",
    "            if I[i,i] == 0:\n",
    "                zero_pixels+=1\n",
    "    non_zero_pixels = 784-zero_pixels\n",
    "    if non_zero_pixels > zero_pixels:\n",
    "        inverted_image = PIL.ImageOps.invert(test_img)\n",
    "        return inverted_image\n",
    "    else:\n",
    "        return test_img"
   ],
   "metadata": {
    "collapsed": false,
    "ExecuteTime": {
     "end_time": "2023-12-18T19:16:35.396377600Z",
     "start_time": "2023-12-18T19:16:35.393395Z"
    }
   },
   "id": "a776474cc70f9418"
  },
  {
   "cell_type": "code",
   "execution_count": 214,
   "outputs": [
    {
     "name": "stdout",
     "output_type": "stream",
     "text": [
      "Prediction:  5\n",
      "Input Image: \n"
     ]
    },
    {
     "data": {
      "text/plain": "<PIL.Image.Image image mode=RGBA size=128x128>",
      "image/png": "[encoded data removed]"
     },
     "execution_count": 214,
     "metadata": {},
     "output_type": "execute_result"
    }
   ],
   "source": [
    "# Try with your own image\n",
    "from PIL import Image\n",
    "test_img = Image.open('img.png') #path of the image\n",
    "test_img_converted = test_img.convert('L')\n",
    "test_img_resized = test_img_converted.resize((28,28))\n",
    "test_img_resized = invert_image(test_img_resized) # converts the image having white background to black background\n",
    "test_img_array = np.asarray(test_img_resized)/255.0\n",
    "\n",
    "prediction,_=forward_pass(np.reshape(test_img_array,(784,1)),parameters)\n",
    "predicted_num=np.argmax(prediction)\n",
    "print(\"Prediction: \",predicted_num)\n",
    "print(\"Input Image: \")\n",
    "test_img.resize((128,128))"
   ],
   "metadata": {
    "collapsed": false,
    "ExecuteTime": {
     "end_time": "2023-12-18T19:17:09.163139300Z",
     "start_time": "2023-12-18T19:17:09.152513800Z"
    }
   },
   "id": "beb77d5dd7abb17d"
  }
 ],
 "metadata": {
  "kernelspec": {
   "display_name": "Python 3",
   "language": "python",
   "name": "python3"
  },
  "language_info": {
   "codemirror_mode": {
    "name": "ipython",
    "version": 2
   },
   "file_extension": ".py",
   "mimetype": "text/x-python",
   "name": "python",
   "nbconvert_exporter": "python",
   "pygments_lexer": "ipython2",
   "version": "2.7.6"
  }
 },
 "nbformat": 4,
 "nbformat_minor": 5
}
