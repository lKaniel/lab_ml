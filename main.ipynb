{
 "cells": [
  {
   "cell_type": "code",
   "execution_count": 241,
   "id": "initial_id",
   "metadata": {
    "collapsed": true,
    "ExecuteTime": {
     "end_time": "2023-12-18T20:06:05.419136Z",
     "start_time": "2023-12-18T20:06:05.415522400Z"
    }
   },
   "outputs": [],
   "source": [
    "import numpy as np\n",
    "import PIL\n",
    "import matplotlib.pyplot as plt"
   ]
  },
  {
   "cell_type": "code",
   "execution_count": 242,
   "outputs": [],
   "source": [
    "def initialize_parameters_deep(layer_dims):\n",
    "    np.random.seed(1)\n",
    "    parameters = {}\n",
    "    L = len(layer_dims)\n",
    "    \n",
    "    for l in range(1,L):\n",
    "        parameters['W' + str(l)] = np.random.randn(layer_dims[l], layer_dims[l-1]) * np.sqrt(2/layer_dims[l-1])\n",
    "        parameters[\"b\"+str(l)]=np.zeros((layer_dims[l],1))\n",
    "    return parameters "
   ],
   "metadata": {
    "collapsed": false,
    "ExecuteTime": {
     "end_time": "2023-12-18T20:06:05.426828200Z",
     "start_time": "2023-12-18T20:06:05.421643100Z"
    }
   },
   "id": "1ec33d34ea77696c"
  },
  {
   "cell_type": "code",
   "execution_count": 243,
   "outputs": [],
   "source": [
    "def relu(x):\n",
    "    x = np.maximum(0,x)\n",
    "    return x"
   ],
   "metadata": {
    "collapsed": false,
    "ExecuteTime": {
     "end_time": "2023-12-18T20:06:05.431844200Z",
     "start_time": "2023-12-18T20:06:05.424826900Z"
    }
   },
   "id": "3ac93015d7c978ad"
  },
  {
   "cell_type": "code",
   "execution_count": 244,
   "outputs": [],
   "source": [
    "def relu_prime(x):\n",
    "    x[x<=0] = 0\n",
    "    x[x>0] = 1\n",
    "    return x"
   ],
   "metadata": {
    "collapsed": false,
    "ExecuteTime": {
     "end_time": "2023-12-18T20:06:05.437795300Z",
     "start_time": "2023-12-18T20:06:05.431844200Z"
    }
   },
   "id": "756117f102825c98"
  },
  {
   "cell_type": "code",
   "execution_count": 245,
   "outputs": [],
   "source": [
    "def softmax(x):\n",
    "    ans = np.exp(x)/np.sum(np.exp(x),axis=0)\n",
    "    return ans"
   ],
   "metadata": {
    "collapsed": false,
    "ExecuteTime": {
     "end_time": "2023-12-18T20:06:05.444441Z",
     "start_time": "2023-12-18T20:06:05.438795100Z"
    }
   },
   "id": "7a24eec366bf41b4"
  },
  {
   "cell_type": "code",
   "execution_count": 246,
   "outputs": [],
   "source": [
    "def linear_forward(A,W,b):\n",
    "    Z=W.dot(A)+b\n",
    "    cache = (A, W ,b)\n",
    "    return Z,cache"
   ],
   "metadata": {
    "collapsed": false,
    "ExecuteTime": {
     "end_time": "2023-12-18T20:06:05.473447700Z",
     "start_time": "2023-12-18T20:06:05.444441Z"
    }
   },
   "id": "40b779017948fec1"
  },
  {
   "cell_type": "code",
   "execution_count": 247,
   "outputs": [],
   "source": [
    "def deep_layer(A,W,b,activation):\n",
    "    Z,linear_cache = linear_forward(A,W,b)\n",
    "    if activation == 'softmax':\n",
    "        A = softmax(Z)\n",
    "        activation_cache = Z\n",
    "    elif activation == 'relu':\n",
    "        A = relu(Z)\n",
    "        activation_cache = Z\n",
    "    cache = (linear_cache,activation_cache)\n",
    "    return A,cache"
   ],
   "metadata": {
    "collapsed": false,
    "ExecuteTime": {
     "end_time": "2023-12-18T20:06:05.474448500Z",
     "start_time": "2023-12-18T20:06:05.450826Z"
    }
   },
   "id": "970f9a7fc6f70fe0"
  },
  {
   "cell_type": "code",
   "execution_count": 248,
   "outputs": [],
   "source": [
    "def forward_pass(input_X,parameters):\n",
    "    caches=[]\n",
    "    depth = int(len(parameters)/2) # number of layers in the neural network\n",
    "    A = input_X\n",
    "    for l in range(1,depth):\n",
    "        A_prev = A\n",
    "        A,cache = deep_layer(A_prev,parameters['W'+str(l)],parameters['b'+str(l)],'relu')\n",
    "        caches.append(cache)\n",
    "    A_last,cache = deep_layer(A,parameters['W'+str(depth)],parameters['b'+str(depth)],'softmax')\n",
    "    caches.append(cache)\n",
    "    return A_last,caches"
   ],
   "metadata": {
    "collapsed": false,
    "ExecuteTime": {
     "end_time": "2023-12-18T20:06:05.474448500Z",
     "start_time": "2023-12-18T20:06:05.458242400Z"
    }
   },
   "id": "94a6486dde57b3e0"
  },
  {
   "cell_type": "code",
   "execution_count": 249,
   "outputs": [],
   "source": [
    "def compute_cost(AL,Y):  \n",
    "    Y= np.reshape(Y,(Y.shape[0],Y.shape[1]))\n",
    "    m = Y.shape[1]\n",
    "    cost =(-1/m)*(np.multiply(Y,np.log(AL))) #categorical_cross_entropy\n",
    "    cost = np.squeeze(cost)\n",
    "    return cost"
   ],
   "metadata": {
    "collapsed": false,
    "ExecuteTime": {
     "end_time": "2023-12-18T20:06:05.474448500Z",
     "start_time": "2023-12-18T20:06:05.463658700Z"
    }
   },
   "id": "9a9490ac7dd5f4e"
  },
  {
   "cell_type": "code",
   "execution_count": 250,
   "outputs": [],
   "source": [
    "def linear_backward(dZ,cache):\n",
    "    A_prev , W, b = cache\n",
    "    m = A_prev.shape[1]\n",
    "    dW = (1/m)*np.dot(dZ,A_prev.T)\n",
    "    db = (1/m)*np.sum(dZ,axis=1,keepdims=True)\n",
    "    dA_prev = np.dot(W.T,dZ)\n",
    "    return dA_prev, dW, db"
   ],
   "metadata": {
    "collapsed": false,
    "ExecuteTime": {
     "end_time": "2023-12-18T20:06:05.490006900Z",
     "start_time": "2023-12-18T20:06:05.469940500Z"
    }
   },
   "id": "24ef2f438e105f90"
  },
  {
   "cell_type": "code",
   "execution_count": 251,
   "outputs": [],
   "source": [
    "def backward_activation(dA, cache, activation):\n",
    "    linear_cache,activation_cache = cache\n",
    "    if activation == \"relu\":\n",
    "        dZ = dA*relu_prime(activation_cache)\n",
    "        dA_prev, dW,db = linear_backward(dZ,linear_cache)\n",
    "    elif activation == \"softmax\":\n",
    "        dZ = dA\n",
    "        dA_prev, dW,db = linear_backward(dZ,linear_cache)\n",
    "    return dA_prev, dW, db"
   ],
   "metadata": {
    "collapsed": false,
    "ExecuteTime": {
     "end_time": "2023-12-18T20:06:05.490510Z",
     "start_time": "2023-12-18T20:06:05.478600700Z"
    }
   },
   "id": "3c1eb625b84b52fb"
  },
  {
   "cell_type": "code",
   "execution_count": 252,
   "outputs": [],
   "source": [
    "def backward_pass(A_last,Y,caches):\n",
    "    grads={}\n",
    "    L = len(caches)\n",
    "    m = A_last.shape[1]\n",
    "    Y = Y.reshape(A_last.shape)\n",
    "    dA_last_Z = A_last-Y\n",
    "    current_cache = caches[L-1]\n",
    "    grads[\"dA\"+str(L-1)],grads[\"dW\"+str(L)],grads[\"db\"+str(L)] = backward_activation(dA_last_Z,current_cache,activation='softmax')\n",
    "    for l in reversed(range(L-1)):\n",
    "        current_cache = caches[l]\n",
    "        dA_prev_temp, dW_temp, db_temp = backward_activation(grads['dA'+str(l+1)],current_cache,activation=\"relu\")\n",
    "        grads[\"dA\"+str(l)] = dA_prev_temp\n",
    "        grads[\"dW\"+str(l+1)] = dW_temp\n",
    "        grads[\"db\"+str(l+1)]=db_temp\n",
    "    return grads   "
   ],
   "metadata": {
    "collapsed": false,
    "ExecuteTime": {
     "end_time": "2023-12-18T20:06:05.492024300Z",
     "start_time": "2023-12-18T20:06:05.484008Z"
    }
   },
   "id": "11d4243f2f49b458"
  },
  {
   "cell_type": "code",
   "execution_count": 253,
   "outputs": [],
   "source": [
    "def update_parameters(parameters, grads, learning_rate):\n",
    "    depth = len(parameters) // 2\n",
    "    for l in range(depth):\n",
    "        parameters[\"W\"+str(l+1)] = parameters[\"W\"+ str(l+1)]-learning_rate*grads['dW'+str(l+1)]\n",
    "        parameters[\"b\"+str(l+1)] = parameters[\"b\" + str(l+1)]-learning_rate*grads['db'+str(l+1)]\n",
    "    return parameters"
   ],
   "metadata": {
    "collapsed": false,
    "ExecuteTime": {
     "end_time": "2023-12-18T20:06:05.497962800Z",
     "start_time": "2023-12-18T20:06:05.492024300Z"
    }
   },
   "id": "7ee1c2470e7747ae"
  },
  {
   "cell_type": "code",
   "execution_count": 254,
   "outputs": [],
   "source": [
    "def mini_batch_gradient_descent(X,Y,layer_dims=[3,2,1],mini_batch_size=8,epochs=100, learning_rate=0.0075):\n",
    "    np.random.seed(1)\n",
    "    m = X.shape[1]\n",
    "    mini_batches = []\n",
    "    #shuffling the data\n",
    "    permutation = list(np.random.permutation(X.shape[1]))\n",
    "    X_shuffled = X[:, permutation]\n",
    "    Y_shuffled = Y[:, permutation]\n",
    "    num_of_complete_batches = m // mini_batch_size\n",
    "    for i in range(num_of_complete_batches):\n",
    "        mini_batch_X = X_shuffled[:,i*mini_batch_size:(i+1)*mini_batch_size]\n",
    "        mini_batch_Y = Y_shuffled[:,i*mini_batch_size:(i+1)*mini_batch_size]\n",
    "        mini_batch = (mini_batch_X,mini_batch_Y)\n",
    "        mini_batches.append(mini_batch)\n",
    "        \n",
    "\n",
    "    if m % mini_batch_size != 0:\n",
    "       \n",
    "        mini_batch_X=X_shuffled[:,num_of_complete_batches*mini_batch_size:num_of_complete_batches*mini_batch_size + (m - mini_batch_size*num_of_complete_batches)]\n",
    "        mini_batch_Y=Y_shuffled[:,num_of_complete_batches*mini_batch_size:num_of_complete_batches*mini_batch_size + (m - mini_batch_size*num_of_complete_batches)]\n",
    "        mini_batch = (mini_batch_X,mini_batch_Y)\n",
    "        mini_batches.append(mini_batch)\n",
    "        \n",
    "        \n",
    "    costs=[]\n",
    "\n",
    "    parameters = initialize_parameters_deep(layer_dims)\n",
    "    \n",
    "    for j in range(epochs):\n",
    "        for mini_batch in mini_batches:\n",
    "            x_batch,y_batch=mini_batch\n",
    "#             parameters = parameters\n",
    "            A_Last,caches = forward_pass(x_batch,parameters)\n",
    "            cost = np.sum(compute_cost(A_Last, y_batch))/A_Last.shape[0]\n",
    "            grads = backward_pass(A_Last, y_batch , caches)\n",
    "            parameters = update_parameters(parameters, grads, learning_rate)\n",
    "        if j%2 == 0:\n",
    "            print(f'Iteration {j} : {cost}')\n",
    "            costs.append(cost)\n",
    "    return parameters,costs"
   ],
   "metadata": {
    "collapsed": false,
    "ExecuteTime": {
     "end_time": "2023-12-18T20:06:05.504799200Z",
     "start_time": "2023-12-18T20:06:05.499962500Z"
    }
   },
   "id": "398b2404936cb261"
  },
  {
   "cell_type": "code",
   "execution_count": 255,
   "outputs": [],
   "source": [
    "def one_hot(y, depth):\n",
    "    one_hot_list = np.array([],dtype=int)\n",
    "    for i in range(depth):\n",
    "        temp =np.zeros((1,depth),dtype=int)\n",
    "        temp[0][i]=1\n",
    "        one_hot_list =np.append(one_hot_list,temp)\n",
    "    one_hot=np.reshape(one_hot_list,(depth,depth))\n",
    "    \n",
    "    y = one_hot[y].T\n",
    "    return y"
   ],
   "metadata": {
    "collapsed": false,
    "ExecuteTime": {
     "end_time": "2023-12-18T20:06:05.516822700Z",
     "start_time": "2023-12-18T20:06:05.505799200Z"
    }
   },
   "id": "2568b1d197d41eb7"
  },
  {
   "cell_type": "code",
   "execution_count": 256,
   "outputs": [
    {
     "name": "stderr",
     "output_type": "stream",
     "text": [
      "D:\\PycharmProjects\\lab_ml\\.venv\\Lib\\site-packages\\sklearn\\datasets\\_openml.py:1022: FutureWarning: The default value of `parser` will change from `'liac-arff'` to `'auto'` in 1.4. You can set `parser='auto'` to silence this warning. Therefore, an `ImportError` will be raised from 1.4 if the dataset is dense and pandas is not installed. Note that the pandas parser may return different data types. See the Notes Section in fetch_openml's API doc for details.\n",
      "  warn(\n"
     ]
    }
   ],
   "source": [
    "from sklearn.datasets import fetch_openml\n",
    "X, y = fetch_openml('mnist_784', version=1, return_X_y=True)"
   ],
   "metadata": {
    "collapsed": false,
    "ExecuteTime": {
     "end_time": "2023-12-18T20:06:20.504389400Z",
     "start_time": "2023-12-18T20:06:05.511823Z"
    }
   },
   "id": "3ccccb8ebd90c5a8"
  },
  {
   "cell_type": "code",
   "execution_count": 257,
   "outputs": [],
   "source": [
    "X = np.array(X) if not isinstance(X, np.ndarray) else X\n",
    "y = np.array(y) if not isinstance(y, np.ndarray) else y\n",
    "\n",
    "train_x = X[0:60000]/255.0 #normalizing the data\n",
    "train_x=train_x.T\n",
    "train_y = y[0:60000]\n",
    "train_y = train_y.astype(int)\n",
    "train_y= np.reshape(train_y,(1,60000))\n",
    "\n",
    "test_x = X[60000:X.shape[0]]/255.0 #normalizing the data\n",
    "test_x=test_x.T\n",
    "test_y = y[60000:y.shape[0]]\n",
    "test_y = test_y.astype('int')"
   ],
   "metadata": {
    "collapsed": false,
    "ExecuteTime": {
     "end_time": "2023-12-18T20:06:20.767671200Z",
     "start_time": "2023-12-18T20:06:20.504893700Z"
    }
   },
   "id": "7e90194630a13887"
  },
  {
   "cell_type": "code",
   "execution_count": 258,
   "outputs": [],
   "source": [
    "train_y = one_hot(train_y,10)"
   ],
   "metadata": {
    "collapsed": false,
    "ExecuteTime": {
     "end_time": "2023-12-18T20:06:20.771705900Z",
     "start_time": "2023-12-18T20:06:20.768672100Z"
    }
   },
   "id": "808e2949c97c828c"
  },
  {
   "cell_type": "code",
   "execution_count": 259,
   "outputs": [
    {
     "name": "stdout",
     "output_type": "stream",
     "text": [
      "Iteration 0 : 0.07062989073279871\n",
      "Iteration 2 : 0.03297248308107577\n",
      "Iteration 4 : 0.021206025404440422\n",
      "Iteration 6 : 0.013890213023086314\n",
      "Iteration 8 : 0.009763911135072939\n",
      "Iteration 10 : 0.007497696664247449\n",
      "Iteration 12 : 0.005646279713169415\n",
      "Iteration 14 : 0.004201951424763114\n",
      "Iteration 16 : 0.0031774376365066572\n",
      "Iteration 18 : 0.0025904445853038895\n",
      "Iteration 20 : 0.0022031244895325515\n",
      "Iteration 22 : 0.001864921656715987\n",
      "Iteration 24 : 0.001571205919813412\n",
      "Iteration 26 : 0.001308350774017373\n",
      "Iteration 28 : 0.0011480718162510646\n",
      "Iteration 30 : 0.0009867794523859652\n",
      "Iteration 32 : 0.0008645649710084136\n",
      "Iteration 34 : 0.0007664196302625245\n",
      "Iteration 36 : 0.0006967312046806493\n",
      "Iteration 38 : 0.0006038373169048922\n"
     ]
    }
   ],
   "source": [
    "parameters,costs=mini_batch_gradient_descent(train_x, train_y,layer_dims=[784,128,64,32,16,10],mini_batch_size=64,epochs=40)"
   ],
   "metadata": {
    "collapsed": false,
    "ExecuteTime": {
     "end_time": "2023-12-18T20:07:31.891532Z",
     "start_time": "2023-12-18T20:06:20.771705900Z"
    }
   },
   "id": "75eb984ce4f18a69"
  },
  {
   "cell_type": "code",
   "execution_count": 260,
   "outputs": [
    {
     "data": {
      "text/plain": "<Figure size 640x480 with 1 Axes>",
      "image/png": "[encoded data removed]"
     },
     "metadata": {},
     "output_type": "display_data"
    }
   ],
   "source": [
    "plt.plot(costs)\n",
    "plt.ylabel('Cost')\n",
    "plt.xlabel('Iterations per 2 epochs')\n",
    "plt.show()"
   ],
   "metadata": {
    "collapsed": false,
    "ExecuteTime": {
     "end_time": "2023-12-18T20:07:31.943881600Z",
     "start_time": "2023-12-18T20:07:31.891532Z"
    }
   },
   "id": "c2af55c8183a47e7"
  },
  {
   "cell_type": "code",
   "execution_count": 261,
   "outputs": [
    {
     "name": "stdout",
     "output_type": "stream",
     "text": [
      "Test Accuracy: 0.9701\n"
     ]
    }
   ],
   "source": [
    "correct = 0\n",
    "incorrect=[]\n",
    "\n",
    "for i in range(test_y.shape[0]):\n",
    "    last,_=forward_pass(np.reshape(test_x[:,i],(784,1)),parameters)\n",
    "    if np.argmax(last) == test_y[i]:\n",
    "        correct +=1\n",
    "    else:\n",
    "        incorrect.append(i)\n",
    "accuracy = correct/test_y.shape[0]\n",
    "print(\"Test Accuracy:\",accuracy)"
   ],
   "metadata": {
    "collapsed": false,
    "ExecuteTime": {
     "end_time": "2023-12-18T20:07:33.454656900Z",
     "start_time": "2023-12-18T20:07:31.942881700Z"
    }
   },
   "id": "685b246e2f478462"
  },
  {
   "cell_type": "code",
   "execution_count": 262,
   "outputs": [],
   "source": [
    "import PIL.ImageOps \n",
    "def invert_image(test_img):\n",
    "    I = np.asarray(test_img)\n",
    "    zero_pixels=0\n",
    "    for i in range(I.shape[0]):\n",
    "        for j in range(I.shape[1]):\n",
    "            if I[i,i] == 0:\n",
    "                zero_pixels+=1\n",
    "    non_zero_pixels = 784-zero_pixels\n",
    "    if non_zero_pixels > zero_pixels:\n",
    "        inverted_image = PIL.ImageOps.invert(test_img)\n",
    "        return inverted_image\n",
    "    else:\n",
    "        return test_img"
   ],
   "metadata": {
    "collapsed": false,
    "ExecuteTime": {
     "end_time": "2023-12-18T20:07:33.458165900Z",
     "start_time": "2023-12-18T20:07:33.453881600Z"
    }
   },
   "id": "a776474cc70f9418"
  },
  {
   "cell_type": "code",
   "execution_count": 269,
   "outputs": [
    {
     "name": "stdout",
     "output_type": "stream",
     "text": [
      "Prediction:  5\n",
      "Input Image: \n"
     ]
    },
    {
     "data": {
      "text/plain": "<PIL.Image.Image image mode=RGBA size=128x128>",
      "image/png": "[encoded data removed]"
     },
     "metadata": {},
     "output_type": "display_data"
    },
    {
     "name": "stdout",
     "output_type": "stream",
     "text": [
      "Prediction:  8\n",
      "Input Image: \n"
     ]
    },
    {
     "data": {
      "text/plain": "<PIL.Image.Image image mode=RGBA size=128x128>",
      "image/png": "[encoded data removed]"
     },
     "metadata": {},
     "output_type": "display_data"
    },
    {
     "name": "stdout",
     "output_type": "stream",
     "text": [
      "Prediction:  5\n",
      "Input Image: \n"
     ]
    },
    {
     "data": {
      "text/plain": "<PIL.Image.Image image mode=RGBA size=128x128>",
      "image/png": "[encoded data removed]"
     },
     "metadata": {},
     "output_type": "display_data"
    },
    {
     "name": "stdout",
     "output_type": "stream",
     "text": [
      "Prediction:  2\n",
      "Input Image: \n"
     ]
    },
    {
     "data": {
      "text/plain": "<PIL.Image.Image image mode=RGB size=128x128>",
      "image/png": "[encoded data removed]",
      "image/jpeg": "[encoded data removed]"
     },
     "metadata": {},
     "output_type": "display_data"
    }
   ],
   "source": [
    "# Try with your own image\n",
    "from PIL import Image\n",
    "\n",
    "for i in range(1,5):\n",
    "    test_img = Image.open('images/' + str(i) +'.png') #path of the image\n",
    "    test_img_converted = test_img.convert('L')\n",
    "    test_img_resized = test_img_converted.resize((28,28))\n",
    "    test_img_resized = invert_image(test_img_resized) # converts the image having white background to black background\n",
    "    test_img_array = np.asarray(test_img_resized)/255.0\n",
    "    \n",
    "    prediction,_=forward_pass(np.reshape(test_img_array,(784,1)),parameters)\n",
    "    predicted_num=np.argmax(prediction)\n",
    "    print(\"Prediction: \",predicted_num)\n",
    "    print(\"Input Image: \")\n",
    "    display(test_img.resize((128,128)))"
   ],
   "metadata": {
    "collapsed": false,
    "ExecuteTime": {
     "end_time": "2023-12-18T20:12:45.306108400Z",
     "start_time": "2023-12-18T20:12:45.277291500Z"
    }
   },
   "id": "beb77d5dd7abb17d"
  }
 ],
 "metadata": {
  "kernelspec": {
   "display_name": "Python 3",
   "language": "python",
   "name": "python3"
  },
  "language_info": {
   "codemirror_mode": {
    "name": "ipython",
    "version": 2
   },
   "file_extension": ".py",
   "mimetype": "text/x-python",
   "name": "python",
   "nbconvert_exporter": "python",
   "pygments_lexer": "ipython2",
   "version": "2.7.6"
  }
 },
 "nbformat": 4,
 "nbformat_minor": 5
}
